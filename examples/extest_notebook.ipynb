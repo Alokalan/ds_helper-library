# test_notebook.ipynb

import seaborn as sns
import pandas as pd
from ds_helper import detect_column_types_simple, visualize, clean_text

print("Loading the Titanic dataset...")
titanic_df = sns.load_dataset('titanic')

print("\n--- Testing Column Detector ---")
column_types = detect_column_types_simple(titanic_df)
print(column_types)

print("\n--- Testing Auto Visualizer ---")
visualize(titanic_df.iloc[:, :5]) # Visualize first 5 columns
print("Visualization complete.")
