{
 "cells": [
  {
   "cell_type": "code",
   "execution_count": 1,
   "id": "c6fe45fe-e366-4933-9e99-935fc7d864c2",
   "metadata": {},
   "outputs": [],
   "source": [
    "import seaborn as sns\n",
    "import pandas as pd"
   ]
  },
  {
   "cell_type": "code",
   "execution_count": null,
   "id": "1a2f70d6-f112-4cf0-8ee7-427bfe805ee5",
   "metadata": {},
   "outputs": [],
   "source": [
    "from ds_helper import detect_column_types_simple, visualize, clean_text"
   ]
  },
  {
   "cell_type": "code",
   "execution_count": 3,
   "id": "cb40d47f-9f17-4839-8267-e921dbe4203b",
   "metadata": {},
   "outputs": [
    {
     "name": "stdout",
     "output_type": "stream",
     "text": [
      "Loading the Titanic dataset...\n"
     ]
    }
   ],
   "source": [
    "print(\"Loading the Titanic dataset...\")\n",
    "titanic_df = sns.load_dataset('titanic')"
   ]
  },
  {
   "cell_type": "code",
   "execution_count": null,
   "id": "b2b08420-15ee-4670-9e1d-2c49c668c166",
   "metadata": {},
   "outputs": [],
   "source": [
    "print(\"\\n--- Testing Column Detector ---\")\n",
    "column_types = detect_column_types_simple(titanic_df)\n",
    "print(column_types)"
   ]
  },
  {
   "cell_type": "code",
   "execution_count": null,
   "id": "ba320854-a22f-44fc-9c45-2feaef209eb3",
   "metadata": {},
   "outputs": [],
   "source": [
    "print(\"\\n--- Testing Auto Visualizer ---\")\n",
    "visualize(titanic_df.iloc[:, :5])\n",
    "print(\"Visualization complete.\")"
   ]
  }
 ],
 "metadata": {
  "kernelspec": {
   "display_name": "Python 3 (ipykernel)",
   "language": "python",
   "name": "python3"
  },
  "language_info": {
   "codemirror_mode": {
    "name": "ipython",
    "version": 3
   },
   "file_extension": ".py",
   "mimetype": "text/x-python",
   "name": "python",
   "nbconvert_exporter": "python",
   "pygments_lexer": "ipython3",
   "version": "3.11.1"
  }
 },
 "nbformat": 4,
 "nbformat_minor": 5
}
